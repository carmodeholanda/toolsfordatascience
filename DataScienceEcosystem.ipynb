{
 "cells": [
  {
   "cell_type": "markdown",
   "id": "e427ee44-84e1-44ca-9c05-cce4188ffdaf",
   "metadata": {},
   "source": [
    "# Data Science Tools and Ecosystem"
   ]
  },
  {
   "cell_type": "markdown",
   "id": "b74d8eb4-3d8d-40d5-975a-a5af4e6ed71d",
   "metadata": {},
   "source": [
    "In this notebook, Data Science Tools and Ecosystem are summarized."
   ]
  },
  {
   "cell_type": "markdown",
   "id": "32bdd66a-3a7f-48a4-91e9-c3d741981454",
   "metadata": {},
   "source": [
    "**Objectives:**\n",
    "- List popular languages for Data Science\n",
    "- List commonly used libraries in Data Science\n",
    "- List some tools for Data Science"
   ]
  },
  {
   "cell_type": "markdown",
   "id": "d1da845e-7f2e-46f5-bb95-beadc9f3369d",
   "metadata": {},
   "source": [
    "Some of the popular languages that Data Scientists use are:\n",
    "1. Phyton\n",
    "2. R\n",
    "3. Julia"
   ]
  },
  {
   "cell_type": "markdown",
   "id": "ba351561-1a5f-4a6c-82e2-a15d8585b37f",
   "metadata": {},
   "source": [
    "Some of the commonly used libraries used by Data Scientists include:\n",
    "1. TensorFlow\n",
    "2. Pandas\n",
    "3. NumPy"
   ]
  },
  {
   "cell_type": "markdown",
   "id": "0c65edf2-dd3c-4adc-b1e1-a887085e16f2",
   "metadata": {},
   "source": [
    "| Data Science Tools |\n",
    "----\n",
    "| Apache Spark |\n",
    "| RapidMiner |\n",
    "| RStudio |"
   ]
  },
  {
   "cell_type": "markdown",
   "id": "29f269aa-2edb-40c6-8513-8e5196f63e37",
   "metadata": {
    "tags": []
   },
   "source": [
    "### Below are a few examples of evaluating arithmetic expressions in Python"
   ]
  },
  {
   "cell_type": "code",
   "execution_count": 2,
   "id": "b07dcba9-dc7d-46ea-bf26-bfe7c68f69a6",
   "metadata": {
    "tags": []
   },
   "outputs": [
    {
     "data": {
      "text/plain": [
       "17"
      ]
     },
     "execution_count": 2,
     "metadata": {},
     "output_type": "execute_result"
    }
   ],
   "source": [
    "# this is a simple arithmetic expression to multiply then add integers\n",
    "(3*4)+5"
   ]
  },
  {
   "cell_type": "code",
   "execution_count": 5,
   "id": "a3172010-3d65-4109-b7d7-1cff30b2b7eb",
   "metadata": {
    "tags": []
   },
   "outputs": [
    {
     "data": {
      "text/plain": [
       "3.3333333333333335"
      ]
     },
     "execution_count": 5,
     "metadata": {},
     "output_type": "execute_result"
    }
   ],
   "source": [
    "# This will convert 200 minutes to hours by dividing by 60\n",
    "200/60"
   ]
  },
  {
   "cell_type": "markdown",
   "id": "308d43db-ec8d-4b7a-8176-04c288173654",
   "metadata": {},
   "source": [
    "## Author\n",
    "Leonardo Carmo de Holanda"
   ]
  }
 ],
 "metadata": {
  "kernelspec": {
   "display_name": "Python",
   "language": "python",
   "name": "conda-env-python-py"
  },
  "language_info": {
   "codemirror_mode": {
    "name": "ipython",
    "version": 3
   },
   "file_extension": ".py",
   "mimetype": "text/x-python",
   "name": "python",
   "nbconvert_exporter": "python",
   "pygments_lexer": "ipython3",
   "version": "3.7.12"
  }
 },
 "nbformat": 4,
 "nbformat_minor": 5
}
